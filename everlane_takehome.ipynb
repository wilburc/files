{
 "cells": [
  {
   "cell_type": "markdown",
   "metadata": {},
   "source": [
    "# 1. Identifying Customer Segments"
   ]
  },
  {
   "cell_type": "markdown",
   "metadata": {},
   "source": [
    "## a. Shoe Lovers\n",
    "- The goal is to **identify shoe lovers**, in the context of an **email campaign** to **market a shoe**\n",
    "  - We can define a **shoe lover** as someone who buys shoes, perhaps more frequently than other items\n",
    "  - Our result will be a list of `user_id`s\n",
    "\n",
    "### 1. Query\n",
    "- For **Shoe Lovers**, features we can look at include:\n",
    "  - How much does this person spend on shoes?\n",
    "  - How much do they spend on shoes vs. other products?\n",
    "- Because this is for an **email campaign**, we can try to identify other email-related features:\n",
    "  - Rate of purchasing via email\n",
    "  - Time between product launch and purchase\n",
    "\n",
    "\n",
    "#### Assumptions\n",
    "- The email campaign is marketing a shoe with conversions (purchases of said shoe) as its KPI\n",
    "- Purchases made in the dataset were intended for the purchaser—they were not gifts\n",
    "- The `launch date` of a product can be used as a proxy for the day the promotion for that product is launched\n",
    "- Purchases made through the “email” order channel are completed shortly after the email is received\n"
   ]
  },
  {
   "cell_type": "code",
   "execution_count": 1,
   "metadata": {
    "collapsed": false
   },
   "outputs": [
    {
     "data": {
      "text/html": [
       "<div>\n",
       "<table border=\"1\" class=\"dataframe\">\n",
       "  <thead>\n",
       "    <tr style=\"text-align: right;\">\n",
       "      <th></th>\n",
       "      <th>user_id</th>\n",
       "      <th>completed_at</th>\n",
       "      <th>order_channel_category</th>\n",
       "      <th>price</th>\n",
       "      <th>quantity</th>\n",
       "      <th>category</th>\n",
       "      <th>launch_date</th>\n",
       "    </tr>\n",
       "  </thead>\n",
       "  <tbody>\n",
       "    <tr>\n",
       "      <th>0</th>\n",
       "      <td>1392297</td>\n",
       "      <td>2016-05-01 17:50:25</td>\n",
       "      <td>paid</td>\n",
       "      <td>55</td>\n",
       "      <td>1</td>\n",
       "      <td>Knit Dresses</td>\n",
       "      <td>2016-04-21 00:00:00</td>\n",
       "    </tr>\n",
       "    <tr>\n",
       "      <th>1</th>\n",
       "      <td>1674333</td>\n",
       "      <td>2017-01-04 10:54:37</td>\n",
       "      <td>paid</td>\n",
       "      <td>20</td>\n",
       "      <td>1</td>\n",
       "      <td>Knit Tops</td>\n",
       "      <td>2016-03-15 00:00:00</td>\n",
       "    </tr>\n",
       "    <tr>\n",
       "      <th>2</th>\n",
       "      <td>2144800</td>\n",
       "      <td>2017-11-10 11:24:56</td>\n",
       "      <td>email</td>\n",
       "      <td>100</td>\n",
       "      <td>1</td>\n",
       "      <td>Sweaters</td>\n",
       "      <td>2016-10-03 00:00:00</td>\n",
       "    </tr>\n",
       "    <tr>\n",
       "      <th>3</th>\n",
       "      <td>1733189</td>\n",
       "      <td>2017-04-13 15:14:23</td>\n",
       "      <td>direct</td>\n",
       "      <td>48</td>\n",
       "      <td>1</td>\n",
       "      <td>Knit Tops</td>\n",
       "      <td>2017-03-07 00:00:00</td>\n",
       "    </tr>\n",
       "    <tr>\n",
       "      <th>4</th>\n",
       "      <td>1031650</td>\n",
       "      <td>2017-06-19 05:03:04</td>\n",
       "      <td>direct</td>\n",
       "      <td>35</td>\n",
       "      <td>1</td>\n",
       "      <td>Knit Tops</td>\n",
       "      <td>2017-04-06 00:00:00</td>\n",
       "    </tr>\n",
       "  </tbody>\n",
       "</table>\n",
       "</div>"
      ],
      "text/plain": [
       "   user_id         completed_at order_channel_category  price  quantity  \\\n",
       "0  1392297  2016-05-01 17:50:25                   paid     55         1   \n",
       "1  1674333  2017-01-04 10:54:37                   paid     20         1   \n",
       "2  2144800  2017-11-10 11:24:56                  email    100         1   \n",
       "3  1733189  2017-04-13 15:14:23                 direct     48         1   \n",
       "4  1031650  2017-06-19 05:03:04                 direct     35         1   \n",
       "\n",
       "       category          launch_date  \n",
       "0  Knit Dresses  2016-04-21 00:00:00  \n",
       "1     Knit Tops  2016-03-15 00:00:00  \n",
       "2      Sweaters  2016-10-03 00:00:00  \n",
       "3     Knit Tops  2017-03-07 00:00:00  \n",
       "4     Knit Tops  2017-04-06 00:00:00  "
      ]
     },
     "execution_count": 1,
     "metadata": {},
     "output_type": "execute_result"
    }
   ],
   "source": [
    "%matplotlib inline\n",
    "import matplotlib\n",
    "import pandas as pd\n",
    "import matplotlib.pyplot as plt\n",
    "\n",
    "## we’ll first query at the order-level across all categories\n",
    "## columns queried will coincide with features defined above\n",
    "\n",
    "## dataframe of orders\n",
    "df = pd.read_csv('orders.csv')\n",
    "\n",
    "## fill in missing values, if any\n",
    "df = df.fillna('n/a')\n",
    "\n",
    "df.head()"
   ]
  },
  {
   "cell_type": "markdown",
   "metadata": {},
   "source": [
    "This data is at the order level, and we want to aggregate it to the `user_id` level. We’ll engineer the features mentioned above while doing so.\n",
    "\n",
    "1. Spend on shoes\n",
    "2. Total spend\n",
    "3. Shoe vs total spend %\n",
    "4. Item purchase count via email\n",
    "5. Item purchase count total\n",
    "6. Email vs total item purchase count %\n",
    "7. Average time between product launch and purchase"
   ]
  },
  {
   "cell_type": "code",
   "execution_count": 2,
   "metadata": {
    "collapsed": false
   },
   "outputs": [],
   "source": [
    "## Create feature #7 (order complete date - launch date) first, before aggregation\n",
    "from datetime import datetime\n",
    "\n",
    "def days_between_dates(d1,d2):\n",
    "  time_format = '%Y-%m-%d %H:%M:%S'\n",
    "  dd1 = datetime.strptime(d1,time_format)\n",
    "  dd2 = datetime.strptime(d2,time_format)\n",
    "  days = (dd2-dd1).days\n",
    "  if days < 0: \n",
    "    days = 0\n",
    "  return days\n",
    "\n",
    "df['launch_to_purchase_days'] = df.apply(lambda row: days_between_dates(row['launch_date'],row['completed_at']),axis=1)"
   ]
  },
  {
   "cell_type": "markdown",
   "metadata": {},
   "source": [
    "#### Group the dataframe and aggregate the continuous variables\n",
    "There will be some gymnastics required to get certain features, namely “spend on shoes” and “item purchase count via email”"
   ]
  },
  {
   "cell_type": "code",
   "execution_count": 3,
   "metadata": {
    "collapsed": false
   },
   "outputs": [],
   "source": [
    "## We need a new column if we want to differentiate between shoe spend and total spend\n",
    "def spend_on_interest(interest,product_category,spend):\n",
    "  ## is this purchase on an item of interest? (in this case, shoes?)\n",
    "  if product_category == interest:\n",
    "    return spend\n",
    "  else:\n",
    "    return 0\n",
    "    \n",
    "interest = 'Footwear'\n",
    "df['spend_on_interest'] = df.apply(lambda row: spend_on_interest(interest,row['category'],row['price']), axis=1)\n",
    "\n",
    "## We’ll do the same for order channels\n",
    "\n",
    "def is_channel_purchase(channel,order_channel):\n",
    "  ## was this purchase made through the desired channel? (in this case, email?)\n",
    "  if order_channel == channel:\n",
    "    return 1\n",
    "  else:\n",
    "    return 0\n",
    "    \n",
    "channel = 'email'\n",
    "df['channel_purchase'] = df.apply(lambda row: is_channel_purchase(channel,row['order_channel_category']), axis=1)"
   ]
  },
  {
   "cell_type": "markdown",
   "metadata": {},
   "source": [
    "We don’t need the columns that we used to create new features anymore"
   ]
  },
  {
   "cell_type": "code",
   "execution_count": 4,
   "metadata": {
    "collapsed": true
   },
   "outputs": [],
   "source": [
    "cols_to_drop = ['completed_at','order_channel_category','category','launch_date']\n",
    "df = df.drop(cols_to_drop,axis=1)"
   ]
  },
  {
   "cell_type": "markdown",
   "metadata": {},
   "source": [
    "Now we’ll aggregate our features to the `user_id` level, and sum the columns"
   ]
  },
  {
   "cell_type": "code",
   "execution_count": 5,
   "metadata": {
    "collapsed": false
   },
   "outputs": [
    {
     "data": {
      "text/html": [
       "<div>\n",
       "<table border=\"1\" class=\"dataframe\">\n",
       "  <thead>\n",
       "    <tr style=\"text-align: right;\">\n",
       "      <th></th>\n",
       "      <th>user_id</th>\n",
       "      <th>average_days_to_buy</th>\n",
       "      <th>spend_on_Footwear</th>\n",
       "      <th>total_spend</th>\n",
       "      <th>purchases_from_email</th>\n",
       "      <th>total_purchases</th>\n",
       "    </tr>\n",
       "  </thead>\n",
       "  <tbody>\n",
       "    <tr>\n",
       "      <th>0</th>\n",
       "      <td>2826</td>\n",
       "      <td>66.500000</td>\n",
       "      <td>0</td>\n",
       "      <td>251</td>\n",
       "      <td>0</td>\n",
       "      <td>4</td>\n",
       "    </tr>\n",
       "    <tr>\n",
       "      <th>1</th>\n",
       "      <td>3275</td>\n",
       "      <td>43.000000</td>\n",
       "      <td>0</td>\n",
       "      <td>68</td>\n",
       "      <td>0</td>\n",
       "      <td>1</td>\n",
       "    </tr>\n",
       "    <tr>\n",
       "      <th>2</th>\n",
       "      <td>5782</td>\n",
       "      <td>361.500000</td>\n",
       "      <td>0</td>\n",
       "      <td>198</td>\n",
       "      <td>0</td>\n",
       "      <td>2</td>\n",
       "    </tr>\n",
       "    <tr>\n",
       "      <th>3</th>\n",
       "      <td>6161</td>\n",
       "      <td>139.833333</td>\n",
       "      <td>0</td>\n",
       "      <td>499</td>\n",
       "      <td>1</td>\n",
       "      <td>6</td>\n",
       "    </tr>\n",
       "    <tr>\n",
       "      <th>4</th>\n",
       "      <td>8746</td>\n",
       "      <td>327.666667</td>\n",
       "      <td>126</td>\n",
       "      <td>447</td>\n",
       "      <td>0</td>\n",
       "      <td>6</td>\n",
       "    </tr>\n",
       "  </tbody>\n",
       "</table>\n",
       "</div>"
      ],
      "text/plain": [
       "   user_id  average_days_to_buy  spend_on_Footwear  total_spend  \\\n",
       "0     2826            66.500000                  0          251   \n",
       "1     3275            43.000000                  0           68   \n",
       "2     5782           361.500000                  0          198   \n",
       "3     6161           139.833333                  0          499   \n",
       "4     8746           327.666667                126          447   \n",
       "\n",
       "   purchases_from_email  total_purchases  \n",
       "0                     0                4  \n",
       "1                     0                1  \n",
       "2                     0                2  \n",
       "3                     1                6  \n",
       "4                     0                6  "
      ]
     },
     "execution_count": 5,
     "metadata": {},
     "output_type": "execute_result"
    }
   ],
   "source": [
    "aggregation = {\n",
    "    'price': 'sum'\n",
    "    ,'quantity': 'sum'\n",
    "    ,'launch_to_purchase_days': 'mean'\n",
    "    ,'spend_on_interest': 'sum'\n",
    "    ,'channel_purchase': 'sum'\n",
    "}\n",
    "\n",
    "users = df.groupby('user_id').agg(aggregation)\n",
    "\n",
    "## rename columns to be clearer\n",
    "renames = {\n",
    "  'launch_to_purchase_days':'average_days_to_buy'\n",
    "  ,'spend_on_interest':'spend_on_{0}'.format(interest)\n",
    "  ,'price':'total_spend'\n",
    "  ,'channel_purchase':'purchases_from_{0}'.format(channel)\n",
    "  ,'quantity':'total_purchases'\n",
    "}\n",
    "\n",
    "users = users.rename(columns=renames)\n",
    "users = users.reset_index()\n",
    "users.head()"
   ]
  },
  {
   "cell_type": "markdown",
   "metadata": {},
   "source": [
    "Now we need to get the rates of **shoe:total purchases**, and **email:all channels orders**"
   ]
  },
  {
   "cell_type": "code",
   "execution_count": 6,
   "metadata": {
    "collapsed": false
   },
   "outputs": [
    {
     "data": {
      "text/html": [
       "<div>\n",
       "<table border=\"1\" class=\"dataframe\">\n",
       "  <thead>\n",
       "    <tr style=\"text-align: right;\">\n",
       "      <th></th>\n",
       "      <th>user_id</th>\n",
       "      <th>average_days_to_buy</th>\n",
       "      <th>spend_on_Footwear</th>\n",
       "      <th>total_spend</th>\n",
       "      <th>purchases_from_email</th>\n",
       "      <th>total_purchases</th>\n",
       "      <th>shoe_vs_total_spend</th>\n",
       "      <th>email_vs_total_purchases</th>\n",
       "    </tr>\n",
       "  </thead>\n",
       "  <tbody>\n",
       "    <tr>\n",
       "      <th>0</th>\n",
       "      <td>2826</td>\n",
       "      <td>66.500000</td>\n",
       "      <td>0</td>\n",
       "      <td>251</td>\n",
       "      <td>0</td>\n",
       "      <td>4</td>\n",
       "      <td>0.000000</td>\n",
       "      <td>0.000000</td>\n",
       "    </tr>\n",
       "    <tr>\n",
       "      <th>1</th>\n",
       "      <td>3275</td>\n",
       "      <td>43.000000</td>\n",
       "      <td>0</td>\n",
       "      <td>68</td>\n",
       "      <td>0</td>\n",
       "      <td>1</td>\n",
       "      <td>0.000000</td>\n",
       "      <td>0.000000</td>\n",
       "    </tr>\n",
       "    <tr>\n",
       "      <th>2</th>\n",
       "      <td>5782</td>\n",
       "      <td>361.500000</td>\n",
       "      <td>0</td>\n",
       "      <td>198</td>\n",
       "      <td>0</td>\n",
       "      <td>2</td>\n",
       "      <td>0.000000</td>\n",
       "      <td>0.000000</td>\n",
       "    </tr>\n",
       "    <tr>\n",
       "      <th>3</th>\n",
       "      <td>6161</td>\n",
       "      <td>139.833333</td>\n",
       "      <td>0</td>\n",
       "      <td>499</td>\n",
       "      <td>1</td>\n",
       "      <td>6</td>\n",
       "      <td>0.000000</td>\n",
       "      <td>0.166667</td>\n",
       "    </tr>\n",
       "    <tr>\n",
       "      <th>4</th>\n",
       "      <td>8746</td>\n",
       "      <td>327.666667</td>\n",
       "      <td>126</td>\n",
       "      <td>447</td>\n",
       "      <td>0</td>\n",
       "      <td>6</td>\n",
       "      <td>0.281879</td>\n",
       "      <td>0.000000</td>\n",
       "    </tr>\n",
       "  </tbody>\n",
       "</table>\n",
       "</div>"
      ],
      "text/plain": [
       "   user_id  average_days_to_buy  spend_on_Footwear  total_spend  \\\n",
       "0     2826            66.500000                  0          251   \n",
       "1     3275            43.000000                  0           68   \n",
       "2     5782           361.500000                  0          198   \n",
       "3     6161           139.833333                  0          499   \n",
       "4     8746           327.666667                126          447   \n",
       "\n",
       "   purchases_from_email  total_purchases  shoe_vs_total_spend  \\\n",
       "0                     0                4             0.000000   \n",
       "1                     0                1             0.000000   \n",
       "2                     0                2             0.000000   \n",
       "3                     1                6             0.000000   \n",
       "4                     0                6             0.281879   \n",
       "\n",
       "   email_vs_total_purchases  \n",
       "0                  0.000000  \n",
       "1                  0.000000  \n",
       "2                  0.000000  \n",
       "3                  0.166667  \n",
       "4                  0.000000  "
      ]
     },
     "execution_count": 6,
     "metadata": {},
     "output_type": "execute_result"
    }
   ],
   "source": [
    "interest_spend_col = 'spend_on_{0}'.format(interest)\n",
    "users['shoe_vs_total_spend'] = users.apply(lambda row: row[interest_spend_col]/row['total_spend'],axis=1)\n",
    "\n",
    "interest_channel_col = 'purchases_from_{0}'.format(channel)\n",
    "users['email_vs_total_purchases'] = users.apply(lambda row: row[interest_channel_col]/row['total_purchases'],axis=1)\n",
    "\n",
    "users.head()"
   ]
  },
  {
   "cell_type": "markdown",
   "metadata": {},
   "source": [
    "### 3. Classification\n",
    "We have several features we can use to rank users based on their love of shoes. However, the current list is still all 12,520 users. We can immediately remove users who have never bought shoes from Everlane."
   ]
  },
  {
   "cell_type": "code",
   "execution_count": 7,
   "metadata": {
    "collapsed": false
   },
   "outputs": [],
   "source": [
    "shoe_buyers = users[users['spend_on_Footwear'] > 0]"
   ]
  },
  {
   "cell_type": "markdown",
   "metadata": {},
   "source": [
    "Now we have 2,521 shoe *buyers* out of 12,520 users. But how many of them are shoe *lovers*?\n",
    "\n",
    "They could *all* be shoe lovers. If the campaign budget were large enough, it could be worth targeting all of them. \n",
    "\n",
    "#### What makes a shoe buyer a shoe *lover*?\n",
    "We can find a threshold for each metric that separates the “buyers” from the “lovers.”\n",
    "\n",
    "For simplicity’s sake, we’ll consider a “lover” to be anything more than your **average buyer**.\n",
    "\n",
    "Your **average shoe buyer** spends the **average amount of money on shoes**, so your **shoe lover** spends above that average. This could be done with any/a combination of the features we’ve created, we’ll just do it on `spend_on_Footwear` for now."
   ]
  },
  {
   "cell_type": "code",
   "execution_count": 8,
   "metadata": {
    "collapsed": false
   },
   "outputs": [],
   "source": [
    "## a shoe lover is anyone who spends above average on shoes\n",
    "average_shoe_spend = shoe_buyers['spend_on_Footwear'].mean()\n",
    "shoe_lovers = shoe_buyers[shoe_buyers['spend_on_Footwear'] >= average_shoe_spend]"
   ]
  },
  {
   "cell_type": "markdown",
   "metadata": {},
   "source": [
    "This method yields us 764 users who are certified **shoe lovers**. This is around 6% of the total users.\n",
    "\n",
    "As promised, we wanted a list of the user id’s"
   ]
  },
  {
   "cell_type": "code",
   "execution_count": 9,
   "metadata": {
    "collapsed": false
   },
   "outputs": [],
   "source": [
    "shoe_lover_ids = shoe_lovers['user_id']"
   ]
  },
  {
   "cell_type": "markdown",
   "metadata": {},
   "source": [
    " Some further exploration options (provided the data):\n",
    "  1. What ratings did they give their purchased shoe? \n",
    "    - If they liked it, they may be inclined to buy more shoes from Everlane\n",
    "  2. Do these people often buy things with deals (name your price, etc)? \n",
    "    - If so, perhaps only target them if these new shoes are eligible for these deals\n",
    "  3. How does time since last purchase affect sales?\n",
    "    - Explore relationship between this value and conversion\n",
    "  4. What is the price-point that these customers buy at?\n",
    "    - If some are more inclined to buy expensive items (split item costs into buckets), perhaps they are best targeted based on the price of the new shoe\n",
    "  5. In a more comprehensive analysis, we could weigh the importance of each feature with some classifier (e.g. random forest), and assign a score to each user. Then, we could take a certain percentile of users from there as shoe _lovers_.\n"
   ]
  },
  {
   "cell_type": "markdown",
   "metadata": {},
   "source": [
    "## b. All sorts of lovers\n",
    "This is fairly simple, given the code written for **Question 1a**. \n",
    "\n",
    "We can actually just recycle all the code past the Query step (cells 1 and 2). \n",
    "\n",
    "*Note: We will define “lovers” the same way we did earlier—a lover is anyone who spends more on that category than the average Everlane customer does. Becuase of this, we can skip many of the previous steps that created columns that were not used for this particular definition of “lover”*"
   ]
  },
  {
   "cell_type": "code",
   "execution_count": 10,
   "metadata": {
    "collapsed": true
   },
   "outputs": [],
   "source": [
    "## helper function (rewritten here for reference)\n",
    "def spend_on_interest(interest,product_category,spend):\n",
    "  ## is this purchase on an item of interest? (in this case, shoes?)\n",
    "  if product_category == interest:\n",
    "    return spend\n",
    "  else:\n",
    "    return 0\n",
    "    \n",
    "## the actual function that gets us the lovers\n",
    "def get_lovers(df,categories):\n",
    "  ## returns a dictionary of lists\n",
    "  lovers_by_category = {}\n",
    "  \n",
    "  ## 1. Engineer features\n",
    "  df = df.fillna('n/a')\n",
    "  for interest in categories:\n",
    "    colname = 'spend_on_{0}'.format(interest)\n",
    "    df[colname] = df.apply(lambda row: spend_on_interest(interest,row['category'],row['price']), axis=1)\n",
    "    \n",
    "  ## 2. Remove unnecessary columns\n",
    "  cols_to_drop = ['completed_at','order_channel_category','category','launch_date']\n",
    "  df = df.drop(cols_to_drop,axis=1)\n",
    "  \n",
    "  ## 3. Group the orders by user_id, aggregating the columns \n",
    "  users = df.groupby('user_id').sum()\n",
    "\n",
    "  ## 4. rename columns to be clearer\n",
    "  renames = {\n",
    "    'price':'total_spend'\n",
    "    ,'quantity':'total_purchases'\n",
    "  }\n",
    "  users = users.rename(columns=renames)\n",
    "  users = users.reset_index()\n",
    "\n",
    "  ## 5. Isolate “lovers” out of “buyers” for each category\n",
    "  for interest in categories:\n",
    "    colname = 'spend_on_{0}'.format(interest)\n",
    "    buyers = users[users[colname] > 0]\n",
    "    average_interest_spend = buyers[colname].mean()\n",
    "    lovers = users[users[colname] >= average_interest_spend]\n",
    "    ## 6. Add this list of lovers to the results dictionary\n",
    "    lovers_by_category[interest] = lovers['user_id']\n",
    "\n",
    "  return lovers_by_category"
   ]
  },
  {
   "cell_type": "markdown",
   "metadata": {},
   "source": [
    "### Code to generate three lists of user_ids: Footwear, Sweater, and Knit Top lovers"
   ]
  },
  {
   "cell_type": "code",
   "execution_count": 11,
   "metadata": {
    "collapsed": false
   },
   "outputs": [
    {
     "name": "stdout",
     "output_type": "stream",
     "text": [
      "1518 lovers for category: Knit Tops\n",
      "[21694, 35024, 38811, 42064, 56060]\n",
      "\n",
      "1178 lovers for category: Sweaters\n",
      "[6161, 83528, 146356, 156071, 199111]\n",
      "\n",
      "764 lovers for category: Footwear\n",
      "[161584, 204727, 268792, 292843, 330687]\n",
      "\n"
     ]
    }
   ],
   "source": [
    "df = pd.read_csv('orders.csv')\n",
    "three_categories = ['Footwear','Sweaters','Knit Tops']\n",
    "three_categories_lovers = get_lovers(df,three_categories)\n",
    "for category,lovers in three_categories_lovers.items():\n",
    "  print '{0} lovers for category: {1}'.format(len(lovers),category)\n",
    "  print list(lovers)[0:5]\n",
    "  print ''"
   ]
  },
  {
   "cell_type": "markdown",
   "metadata": {},
   "source": [
    "### Code to generate list of lovers for every category"
   ]
  },
  {
   "cell_type": "code",
   "execution_count": 12,
   "metadata": {
    "collapsed": false
   },
   "outputs": [
    {
     "name": "stdout",
     "output_type": "stream",
     "text": [
      "534 lovers for category: Bags\n",
      "[132461, 158001, 174788, 180887, 203806]\n",
      "\n",
      "526 lovers for category: Outerwear\n",
      "[87397, 160357, 161584, 163554, 193104]\n",
      "\n",
      "1518 lovers for category: Knit Tops\n",
      "[21694, 35024, 38811, 42064, 56060]\n",
      "\n",
      "324 lovers for category: Denim\n",
      "[116655, 124570, 161584, 182302, 265031]\n",
      "\n",
      "298 lovers for category: Woven Dresses\n",
      "[10386, 87536, 238140, 294780, 381492]\n",
      "\n",
      "127 lovers for category: Shirting\n",
      "[291539, 350353, 490845, 526994, 541508]\n",
      "\n",
      "1 lovers for category: Other\n",
      "[2494158]\n",
      "\n",
      "764 lovers for category: Footwear\n",
      "[161584, 204727, 268792, 292843, 330687]\n",
      "\n",
      "983 lovers for category: Bottoms\n",
      "[2826, 55113, 56060, 84352, 84970]\n",
      "\n",
      "715 lovers for category: Woven Tops\n",
      "[93520, 123263, 171334, 238440, 244347]\n",
      "\n",
      "157 lovers for category: Seasonal Accessories\n",
      "[199111, 229479, 254176, 257259, 349642]\n",
      "\n",
      "1178 lovers for category: Sweaters\n",
      "[6161, 83528, 146356, 156071, 199111]\n",
      "\n",
      "306 lovers for category: Knit Dresses\n",
      "[40939, 291539, 350353, 462097, 524689]\n",
      "\n",
      "172 lovers for category: SLGs\n",
      "[130920, 137653, 249495, 524963, 603332]\n",
      "\n"
     ]
    }
   ],
   "source": [
    "## this is obviously very similar to the previous cell\n",
    "df = pd.read_csv('orders.csv')\n",
    "all_categories = df['category'].unique() ## a bit of a misnomer—this isn’t all the categories, \n",
    "                                         ## but all the categories that people have bought from.\n",
    "                                         \n",
    "all_categories_lovers = get_lovers(df,all_categories)\n",
    "for category,lovers in all_categories_lovers.items():\n",
    "  print '{0} lovers for category: {1}'.format(len(lovers),category)\n",
    "  print list(lovers)[0:5]\n",
    "  print ''"
   ]
  },
  {
   "cell_type": "markdown",
   "metadata": {},
   "source": [
    "## c. Shoe Lovers vs. Knit Top Lovers\n",
    "With the list of user IDs for both groups, we can analyze trends in certain demographic variables that we have available (gender, location, discovery info)\n",
    "\n",
    "We can engineer more variables from the other tables, but we’ll just look at the ones in the `recruiting.users` table for now.\n",
    "\n",
    "### 1. Start off by getting a dataframe for each set of lovers"
   ]
  },
  {
   "cell_type": "code",
   "execution_count": 13,
   "metadata": {
    "collapsed": false
   },
   "outputs": [],
   "source": [
    "### 1. Get lists of lovers (user_ids), using the handy function from Question 1b.\n",
    "df = pd.read_csv('orders.csv')\n",
    "\n",
    "categories = ['Footwear','Knit Tops']\n",
    "lovers = get_lovers(df,categories)\n",
    "shoe_lovers = lovers['Footwear']\n",
    "knit_top_lovers = lovers['Knit Tops']\n",
    "\n",
    "### 2. We want to make each list into a dataframe, and join it with the users table\n",
    "## Run a query (users) for all our users\n",
    "users = pd.read_csv('users.csv')\n",
    "users = users.fillna('n/a')\n",
    "\n",
    "## our two resulting dataframes\n",
    "shoe_lovers_df = pd.DataFrame({'user_id': shoe_lovers}).merge(users,on='user_id',how='left')\n",
    "kt_lovers_df = pd.DataFrame({'user_id': knit_top_lovers}).merge(users,on='user_id',how='left')"
   ]
  },
  {
   "cell_type": "markdown",
   "metadata": {},
   "source": [
    "### 2. Compare values between the two \n",
    "We’ll do some simple comparisons\n",
    "  - Compare value counts for categorical features\n",
    "  - Compare quartiles for continuous features\n",
    "  "
   ]
  },
  {
   "cell_type": "code",
   "execution_count": 14,
   "metadata": {
    "collapsed": false
   },
   "outputs": [],
   "source": [
    "## get columns into a list\n",
    "columns = list(shoe_lovers_df.columns)"
   ]
  },
  {
   "cell_type": "markdown",
   "metadata": {},
   "source": [
    "### Examine categorical variables first\n",
    "We’ll look at the ratios of values between the two groups of lovers, to see if any values are over/under-represented.\n",
    "This would work for any categorical variables, but for now, we’ll look at the two most immediately available\n",
    "1. Gender\n",
    "2. Location"
   ]
  },
  {
   "cell_type": "code",
   "execution_count": 15,
   "metadata": {
    "collapsed": false
   },
   "outputs": [
    {
     "data": {
      "text/html": [
       "<div>\n",
       "<table border=\"1\" class=\"dataframe\">\n",
       "  <thead>\n",
       "    <tr>\n",
       "      <th>Feature</th>\n",
       "      <th colspan=\"2\" halign=\"left\">location</th>\n",
       "      <th colspan=\"5\" halign=\"left\">gender</th>\n",
       "    </tr>\n",
       "    <tr>\n",
       "      <th>Value</th>\n",
       "      <th>US</th>\n",
       "      <th>international</th>\n",
       "      <th>female</th>\n",
       "      <th>male</th>\n",
       "      <th>n/a</th>\n",
       "      <th>other</th>\n",
       "      <th>unisex</th>\n",
       "    </tr>\n",
       "  </thead>\n",
       "  <tbody>\n",
       "    <tr>\n",
       "      <th>Knit Top Lovers</th>\n",
       "      <td>87%</td>\n",
       "      <td>13%</td>\n",
       "      <td>76%</td>\n",
       "      <td>17%</td>\n",
       "      <td>6%</td>\n",
       "      <td>0%</td>\n",
       "      <td>0%</td>\n",
       "    </tr>\n",
       "    <tr>\n",
       "      <th>Shoe Lovers</th>\n",
       "      <td>83%</td>\n",
       "      <td>17%</td>\n",
       "      <td>93%</td>\n",
       "      <td>2%</td>\n",
       "      <td>5%</td>\n",
       "      <td>0%</td>\n",
       "      <td>0%</td>\n",
       "    </tr>\n",
       "    <tr>\n",
       "      <th>Difference</th>\n",
       "      <td>4%</td>\n",
       "      <td>4%</td>\n",
       "      <td>17%</td>\n",
       "      <td>15%</td>\n",
       "      <td>1%</td>\n",
       "      <td>0%</td>\n",
       "      <td>0%</td>\n",
       "    </tr>\n",
       "  </tbody>\n",
       "</table>\n",
       "</div>"
      ],
      "text/plain": [
       "Feature         location               gender                      \n",
       "Value                 US international female male n/a other unisex\n",
       "Knit Top Lovers      87%           13%    76%  17%  6%    0%     0%\n",
       "Shoe Lovers          83%           17%    93%   2%  5%    0%     0%\n",
       "Difference            4%            4%    17%  15%  1%    0%     0%"
      ]
     },
     "execution_count": 15,
     "metadata": {},
     "output_type": "execute_result"
    }
   ],
   "source": [
    "## identify categorical columns \n",
    "categorical_columns = [col for col in columns if shoe_lovers_df[col].dtype == 'object']\n",
    "\n",
    "## create an empty dataframe\n",
    "categoricals = pd.DataFrame()\n",
    "\n",
    "## use value_counts() to get percentage representations of values within group\n",
    "## then add this to the empty dataframe created above\n",
    "for col in categorical_columns:\n",
    "  vc1 = shoe_lovers_df[col].value_counts(normalize=True)\n",
    "  vc2 = kt_lovers_df[col].value_counts(normalize=True)\n",
    "  categoricals = pd.concat([pd.DataFrame({'Shoe Lovers':vc1,'Knit Top Lovers':vc2,'Feature':col}),categoricals])\n",
    "\n",
    "## calculate the differences in percentage\n",
    "categoricals['Difference'] = categoricals.apply(lambda row: abs(row['Knit Top Lovers'] - row['Shoe Lovers']),axis=1)\n",
    "\n",
    "## some manipulation to get the dataframe in a presentable format\n",
    "categoricals = categoricals.fillna(0)\n",
    "categoricals = categoricals.reset_index()\n",
    "categoricals = categoricals.rename(columns={'index':'Value'})\n",
    "categoricals = categoricals.set_index(['Feature','Value'])\n",
    "categoricals = categoricals.applymap(lambda x: '{:.0f}%'.format(x * 100))\n",
    "\n",
    "## our results in a dataframe\n",
    "categoricals.T"
   ]
  },
  {
   "cell_type": "markdown",
   "metadata": {},
   "source": [
    "Above, we can see that in the two features we looked at (location and gender), the location representation is around the same (heavily skewed towards the U.S.). However, there is a notable difference between gender representation. **Females make up a larger part of “Shoe Lovers” than they do “Knit Top Lovers.”** It would be easy to run this analysis over every category, to see how these two stack against the rest.\n",
    "\n",
    "\n",
    "### Continuous Variables\n",
    "We’ll look at the `age` feature we engineered, which represents how long the customer has been shopping with Everlane. We’ll calculate the quartiles for each group."
   ]
  },
  {
   "cell_type": "code",
   "execution_count": 16,
   "metadata": {
    "collapsed": false
   },
   "outputs": [],
   "source": [
    "## identify continuous columns \n",
    "continuous_dtypes = ['int64','int8','float64','float32']\n",
    "categorical_columns = [col for col in columns if shoe_lovers_df[col].dtype in continuous_dtypes]\n",
    "categorical_columns.remove('user_id') ## not this one"
   ]
  },
  {
   "cell_type": "code",
   "execution_count": 17,
   "metadata": {
    "collapsed": false
   },
   "outputs": [
    {
     "data": {
      "text/plain": [
       "([<matplotlib.axis.XTick at 0x103eacb90>,\n",
       "  <matplotlib.axis.XTick at 0x106fb9550>],\n",
       " <a list of 2 Text xticklabel objects>)"
      ]
     },
     "execution_count": 17,
     "metadata": {},
     "output_type": "execute_result"
    },
    {
     "data": {
      "image/png": "[encoded data removed]",
      "text/plain": [
       "<matplotlib.figure.Figure at 0x107291590>"
      ]
     },
     "metadata": {},
     "output_type": "display_data"
    }
   ],
   "source": [
    "quartiles = [0,.25,.5,.75,1]\n",
    "\n",
    "## get quartiles\n",
    "q1 = shoe_lovers_df['age'].quantile(quartiles)\n",
    "q2 = kt_lovers_df['age'].quantile(quartiles)\n",
    "\n",
    "## we can represent quartiles as box plots (duh)\n",
    "q1 = [i for i in q1]\n",
    "q2 = [i for i in q2]\n",
    "q = [q1,q2]\n",
    "plt.boxplot(q)\n",
    "plt.title('Customer age', fontsize=18) \n",
    "plt.ylabel('Days being Everlane customer') # y axis title\n",
    "plt.xticks([1,2], ['Shoe Lovers','Knit Top Lovers']) # x axis labels"
   ]
  },
  {
   "cell_type": "markdown",
   "metadata": {},
   "source": [
    "The two groups have a strikingly similar “age” distribution, with **Knit Top Lovers** being ever-so-slightly older. This could inform the email campaign, suggesting that **if there is a loyalty program/bonus involved with the campaign, a “Knit Top Lovers” email campaign with the same program could be equally effective in this regard.**\n",
    "\n",
    "Obviously “customer age” is just one of many continuous features. We can easily reproduce this for any continuous variable that we can get our hands on. "
   ]
  },
  {
   "cell_type": "markdown",
   "metadata": {},
   "source": [
    "# 2. Experimentation\n",
    "Creating an A/B test to measure effectiveness of the “Shoe Lovers email campaign.” We will assume the campaign creative itself is fixed, and that we have a list of “shoe lovers” to target.\n",
    "\n",
    "### Goal\n",
    "We’re going to assume the **campaign goal is to sell a shoe (conversions)**, as opposed to brand/product-awareness or new users, etc.\n",
    "\n",
    "### Hypothesis\n",
    "Our hypothesis is that **shoe lovers who receive this promotional email are more likely to buy this shoe than people who did not receive the email**\n",
    "\n",
    "### Experiment\n",
    "- Did shoe lovers who were targeted buy the shoe?\n",
    "- Did shoe lovers who weren’t targeted buy the shoe?\n",
    "\n",
    "To run this experiment, we can target:\n",
    "1. Some shoe lovers\n",
    "2. Some non-shoe lovers\n",
    "\n",
    "Data providing, we can capture the data as shown in the table below:"
   ]
  },
  {
   "cell_type": "code",
   "execution_count": 18,
   "metadata": {
    "collapsed": false
   },
   "outputs": [
    {
     "data": {
      "text/html": [
       "<div>\n",
       "<table border=\"1\" class=\"dataframe\">\n",
       "  <thead>\n",
       "    <tr style=\"text-align: right;\">\n",
       "      <th></th>\n",
       "      <th>user_id</th>\n",
       "      <th>shoe_lover</th>\n",
       "      <th>targeted</th>\n",
       "      <th>link_clicked</th>\n",
       "      <th>conversion</th>\n",
       "    </tr>\n",
       "  </thead>\n",
       "  <tbody>\n",
       "    <tr>\n",
       "      <th>0</th>\n",
       "      <td>1</td>\n",
       "      <td>True</td>\n",
       "      <td>True</td>\n",
       "      <td>True</td>\n",
       "      <td>False</td>\n",
       "    </tr>\n",
       "    <tr>\n",
       "      <th>1</th>\n",
       "      <td>2</td>\n",
       "      <td>False</td>\n",
       "      <td>False</td>\n",
       "      <td>False</td>\n",
       "      <td>False</td>\n",
       "    </tr>\n",
       "    <tr>\n",
       "      <th>2</th>\n",
       "      <td>3</td>\n",
       "      <td>False</td>\n",
       "      <td>True</td>\n",
       "      <td>False</td>\n",
       "      <td>False</td>\n",
       "    </tr>\n",
       "  </tbody>\n",
       "</table>\n",
       "</div>"
      ],
      "text/plain": [
       "  user_id shoe_lover targeted link_clicked conversion\n",
       "0       1       True     True         True      False\n",
       "1       2      False    False        False      False\n",
       "2       3      False     True        False      False"
      ]
     },
     "execution_count": 18,
     "metadata": {},
     "output_type": "execute_result"
    }
   ],
   "source": [
    "## ignore this \n",
    "user_id = ['1','2','3']\n",
    "shoe_lover = [True,False,False]\n",
    "targeted = [True, False,True]\n",
    "link_clicked = [True,False,False]\n",
    "conversion = [False,False,False]\n",
    "df = pd.DataFrame({'user_id':user_id\n",
    "                ,'shoe_lover':shoe_lover\n",
    "                ,'targeted':targeted\n",
    "                ,'link_clicked':link_clicked\n",
    "                ,'conversion':conversion\n",
    "})\n",
    "order = ['user_id','shoe_lover','targeted','link_clicked','conversion']\n",
    "df[order]"
   ]
  },
  {
   "cell_type": "markdown",
   "metadata": {},
   "source": [
    "We’ll have two groups, each one having 2 subgroups: \n",
    "1. Shoe lovers (shoe_lover == True)\n",
    "  - Target (targeted == True)\n",
    "  - Control (targeted == False)\n",
    "2. Other (shoe_lover == False)\n",
    "  - Target (targeted == True)\n",
    "  - Control (targeted == False)\n",
    "\n",
    "\n",
    "We’re primarily concerned with the **conversion rate** `len(df[df['conversion'] == True])/len(df)` for each group, but can look at **click-through rate** `len(df[df['link_clicked'] == True])/len(df)` as well.\n",
    "\n",
    "\n",
    "### Evaluation\n",
    "\n",
    "Our hypothesis states that these rates for `shoe_lovers.target` should be higher than the rate for `shoe_lovers.control`, and same for “other.”\n",
    "\n",
    "If the lift, or `shoe_lovers.target.rate`/`shoe_lovers.control.rate` is greater than 1, then we can potentially consider it a success. \n",
    "\n",
    "To determine how much above 1 the value needs to be, to be considered a success, we can look at the **cost-per conversion** and **RoAS**.\n",
    "This involves comparing the **media cost** (in this case, cost of sending an email) with the **net revenue** gained when a shoe is purchased.\n",
    "\n"
   ]
  },
  {
   "cell_type": "markdown",
   "metadata": {},
   "source": [
    "# 3. Cookie Pairing"
   ]
  },
  {
   "cell_type": "code",
   "execution_count": 19,
   "metadata": {
    "collapsed": false
   },
   "outputs": [
    {
     "data": {
      "text/html": [
       "<div>\n",
       "<table border=\"1\" class=\"dataframe\">\n",
       "  <thead>\n",
       "    <tr style=\"text-align: right;\">\n",
       "      <th></th>\n",
       "      <th>ip_address</th>\n",
       "      <th>cookie_id</th>\n",
       "      <th>user_id</th>\n",
       "    </tr>\n",
       "  </thead>\n",
       "  <tbody>\n",
       "    <tr>\n",
       "      <th>0</th>\n",
       "      <td>1.1.1</td>\n",
       "      <td>abc</td>\n",
       "      <td>123</td>\n",
       "    </tr>\n",
       "    <tr>\n",
       "      <th>1</th>\n",
       "      <td>1.1.1</td>\n",
       "      <td>cbd</td>\n",
       "      <td></td>\n",
       "    </tr>\n",
       "    <tr>\n",
       "      <th>2</th>\n",
       "      <td>2.2.2</td>\n",
       "      <td>abc</td>\n",
       "      <td>123</td>\n",
       "    </tr>\n",
       "    <tr>\n",
       "      <th>3</th>\n",
       "      <td>2.2.2</td>\n",
       "      <td>def</td>\n",
       "      <td>123</td>\n",
       "    </tr>\n",
       "    <tr>\n",
       "      <th>4</th>\n",
       "      <td>2.2.2</td>\n",
       "      <td>ghi</td>\n",
       "      <td>356</td>\n",
       "    </tr>\n",
       "    <tr>\n",
       "      <th>5</th>\n",
       "      <td>3.3.3</td>\n",
       "      <td>jkl</td>\n",
       "      <td></td>\n",
       "    </tr>\n",
       "  </tbody>\n",
       "</table>\n",
       "</div>"
      ],
      "text/plain": [
       "  ip_address cookie_id user_id\n",
       "0      1.1.1       abc     123\n",
       "1      1.1.1       cbd        \n",
       "2      2.2.2       abc     123\n",
       "3      2.2.2       def     123\n",
       "4      2.2.2       ghi     356\n",
       "5      3.3.3       jkl        "
      ]
     },
     "execution_count": 19,
     "metadata": {},
     "output_type": "execute_result"
    }
   ],
   "source": [
    "## Set up initial dataframe\n",
    "\n",
    "ip = ['1.1.1','1.1.1','2.2.2','2.2.2','2.2.2','3.3.3']\n",
    "cookie = ['abc','cbd','abc','def','ghi','jkl']\n",
    "user = ['123','','123','123','356','']\n",
    "\n",
    "df = pd.DataFrame({'ip_address':ip,'cookie_id':cookie,'user_id':user})\n",
    "order = ['ip_address','cookie_id','user_id']\n",
    "df[order]"
   ]
  },
  {
   "cell_type": "code",
   "execution_count": 20,
   "metadata": {
    "collapsed": false
   },
   "outputs": [
    {
     "data": {
      "text/plain": [
       "{'abc': '123', 'cbd': '', 'def': '123', 'ghi': '356', 'jkl': ''}"
      ]
     },
     "execution_count": 20,
     "metadata": {},
     "output_type": "execute_result"
    }
   ],
   "source": [
    "## get the pairs into their own dataframe\n",
    "cookie_user_match_df = df[['cookie_id','user_id']].drop_duplicates()\n",
    "\n",
    "## convert this dataframe to a dictionary\n",
    "match_df = cookie_user_match_df.to_dict(orient='index')\n",
    "\n",
    "## use a dict comprehension to get it into an easier-to-use format\n",
    "match_dict = {j['cookie_id']:j['user_id'] for i,j in match_df.items()}\n",
    "\n",
    "match_dict"
   ]
  },
  {
   "cell_type": "markdown",
   "metadata": {},
   "source": [
    "## Assumptions\n",
    "- Empty user_id means we don’t know who that cookie_id belongs to. Two empty user_ids are _not_ the same user.\n",
    "\n",
    "## 1. Create separate match table for `cookie_id` to `user_id`"
   ]
  },
  {
   "cell_type": "markdown",
   "metadata": {},
   "source": [
    "## 2. Ignoring the user_id column, join the original dataframe with itself on the `ip_address` column to get combinations"
   ]
  },
  {
   "cell_type": "code",
   "execution_count": 21,
   "metadata": {
    "collapsed": false
   },
   "outputs": [
    {
     "data": {
      "text/html": [
       "<div>\n",
       "<table border=\"1\" class=\"dataframe\">\n",
       "  <thead>\n",
       "    <tr style=\"text-align: right;\">\n",
       "      <th></th>\n",
       "      <th>ip_address</th>\n",
       "      <th>cookie_id_1</th>\n",
       "      <th>cookie_id_2</th>\n",
       "    </tr>\n",
       "  </thead>\n",
       "  <tbody>\n",
       "    <tr>\n",
       "      <th>0</th>\n",
       "      <td>1.1.1</td>\n",
       "      <td>abc</td>\n",
       "      <td>abc</td>\n",
       "    </tr>\n",
       "    <tr>\n",
       "      <th>1</th>\n",
       "      <td>1.1.1</td>\n",
       "      <td>abc</td>\n",
       "      <td>cbd</td>\n",
       "    </tr>\n",
       "    <tr>\n",
       "      <th>2</th>\n",
       "      <td>1.1.1</td>\n",
       "      <td>cbd</td>\n",
       "      <td>abc</td>\n",
       "    </tr>\n",
       "    <tr>\n",
       "      <th>3</th>\n",
       "      <td>1.1.1</td>\n",
       "      <td>cbd</td>\n",
       "      <td>cbd</td>\n",
       "    </tr>\n",
       "    <tr>\n",
       "      <th>4</th>\n",
       "      <td>2.2.2</td>\n",
       "      <td>abc</td>\n",
       "      <td>abc</td>\n",
       "    </tr>\n",
       "    <tr>\n",
       "      <th>5</th>\n",
       "      <td>2.2.2</td>\n",
       "      <td>abc</td>\n",
       "      <td>def</td>\n",
       "    </tr>\n",
       "    <tr>\n",
       "      <th>6</th>\n",
       "      <td>2.2.2</td>\n",
       "      <td>abc</td>\n",
       "      <td>ghi</td>\n",
       "    </tr>\n",
       "    <tr>\n",
       "      <th>7</th>\n",
       "      <td>2.2.2</td>\n",
       "      <td>def</td>\n",
       "      <td>abc</td>\n",
       "    </tr>\n",
       "    <tr>\n",
       "      <th>8</th>\n",
       "      <td>2.2.2</td>\n",
       "      <td>def</td>\n",
       "      <td>def</td>\n",
       "    </tr>\n",
       "    <tr>\n",
       "      <th>9</th>\n",
       "      <td>2.2.2</td>\n",
       "      <td>def</td>\n",
       "      <td>ghi</td>\n",
       "    </tr>\n",
       "    <tr>\n",
       "      <th>10</th>\n",
       "      <td>2.2.2</td>\n",
       "      <td>ghi</td>\n",
       "      <td>abc</td>\n",
       "    </tr>\n",
       "    <tr>\n",
       "      <th>11</th>\n",
       "      <td>2.2.2</td>\n",
       "      <td>ghi</td>\n",
       "      <td>def</td>\n",
       "    </tr>\n",
       "    <tr>\n",
       "      <th>12</th>\n",
       "      <td>2.2.2</td>\n",
       "      <td>ghi</td>\n",
       "      <td>ghi</td>\n",
       "    </tr>\n",
       "    <tr>\n",
       "      <th>13</th>\n",
       "      <td>3.3.3</td>\n",
       "      <td>jkl</td>\n",
       "      <td>jkl</td>\n",
       "    </tr>\n",
       "  </tbody>\n",
       "</table>\n",
       "</div>"
      ],
      "text/plain": [
       "   ip_address cookie_id_1 cookie_id_2\n",
       "0       1.1.1         abc         abc\n",
       "1       1.1.1         abc         cbd\n",
       "2       1.1.1         cbd         abc\n",
       "3       1.1.1         cbd         cbd\n",
       "4       2.2.2         abc         abc\n",
       "5       2.2.2         abc         def\n",
       "6       2.2.2         abc         ghi\n",
       "7       2.2.2         def         abc\n",
       "8       2.2.2         def         def\n",
       "9       2.2.2         def         ghi\n",
       "10      2.2.2         ghi         abc\n",
       "11      2.2.2         ghi         def\n",
       "12      2.2.2         ghi         ghi\n",
       "13      3.3.3         jkl         jkl"
      ]
     },
     "execution_count": 21,
     "metadata": {},
     "output_type": "execute_result"
    }
   ],
   "source": [
    "## we don’t want the user_id column anymore\n",
    "ddf = df[['ip_address','cookie_id']]\n",
    "\n",
    "## merging on ip_address gets us every combination of ip_address,cookie_id_1,cookie_id_2\n",
    "ddf = ddf.merge(ddf,on='ip_address',how='left',suffixes=('_1','_2'))\n",
    "\n",
    "ddf"
   ]
  },
  {
   "cell_type": "markdown",
   "metadata": {},
   "source": [
    "This is way too many combinations. We have rows where the pair is the same (index 0, 3, etc), as well as rows where the pairs are just in reverse order (index 5 and 7). We can remove these rows:"
   ]
  },
  {
   "cell_type": "code",
   "execution_count": 22,
   "metadata": {
    "collapsed": false
   },
   "outputs": [
    {
     "name": "stderr",
     "output_type": "stream",
     "text": [
      "/Users/wilburchen/anaconda2/lib/python2.7/site-packages/ipykernel/__main__.py:14: SettingWithCopyWarning: \n",
      "A value is trying to be set on a copy of a slice from a DataFrame.\n",
      "Try using .loc[row_indexer,col_indexer] = value instead\n",
      "\n",
      "See the caveats in the documentation: http://pandas.pydata.org/pandas-docs/stable/indexing.html#indexing-view-versus-copy\n"
     ]
    },
    {
     "data": {
      "text/html": [
       "<div>\n",
       "<table border=\"1\" class=\"dataframe\">\n",
       "  <thead>\n",
       "    <tr style=\"text-align: right;\">\n",
       "      <th></th>\n",
       "      <th>ip_address</th>\n",
       "      <th>cookie_id_1</th>\n",
       "      <th>cookie_id_2</th>\n",
       "    </tr>\n",
       "  </thead>\n",
       "  <tbody>\n",
       "    <tr>\n",
       "      <th>1</th>\n",
       "      <td>1.1.1</td>\n",
       "      <td>abc</td>\n",
       "      <td>cbd</td>\n",
       "    </tr>\n",
       "    <tr>\n",
       "      <th>5</th>\n",
       "      <td>2.2.2</td>\n",
       "      <td>abc</td>\n",
       "      <td>def</td>\n",
       "    </tr>\n",
       "    <tr>\n",
       "      <th>6</th>\n",
       "      <td>2.2.2</td>\n",
       "      <td>abc</td>\n",
       "      <td>ghi</td>\n",
       "    </tr>\n",
       "    <tr>\n",
       "      <th>9</th>\n",
       "      <td>2.2.2</td>\n",
       "      <td>def</td>\n",
       "      <td>ghi</td>\n",
       "    </tr>\n",
       "  </tbody>\n",
       "</table>\n",
       "</div>"
      ],
      "text/plain": [
       "  ip_address cookie_id_1 cookie_id_2\n",
       "1      1.1.1         abc         cbd\n",
       "5      2.2.2         abc         def\n",
       "6      2.2.2         abc         ghi\n",
       "9      2.2.2         def         ghi"
      ]
     },
     "execution_count": 22,
     "metadata": {},
     "output_type": "execute_result"
    }
   ],
   "source": [
    "## remove rows where both cookie ids are the same\n",
    "ddf = ddf[ddf['cookie_id_1'] != ddf['cookie_id_2']]\n",
    "\n",
    "## remove rows where the pair is already in another column but the pair is in reverse order\n",
    "def create_pair(row):\n",
    "  ## helper function to identify unique combinations\n",
    "  ip = row['ip_address']\n",
    "  c1 = row['cookie_id_1']\n",
    "  c2 = row['cookie_id_2']\n",
    "  combo_list = sorted([ip,c1,c2])\n",
    "  combo_string = ' '.join(combo_list)\n",
    "  return combo_string\n",
    "\n",
    "ddf['combination'] = ddf.apply(create_pair, axis=1)\n",
    "ddf = ddf.drop_duplicates(subset='combination')\n",
    "ddf = ddf[['ip_address','cookie_id_1','cookie_id_2']]\n",
    "ddf"
   ]
  },
  {
   "cell_type": "markdown",
   "metadata": {},
   "source": [
    "Now that we have the right columns and rows, we can start mapping the cookies to their users, then the users to each other, to see if they’re the same person\n",
    "\n",
    "### 3. Using our match dictionary from earlier, compare cookies and create final column"
   ]
  },
  {
   "cell_type": "code",
   "execution_count": 23,
   "metadata": {
    "collapsed": false
   },
   "outputs": [
    {
     "data": {
      "text/html": [
       "<div>\n",
       "<table border=\"1\" class=\"dataframe\">\n",
       "  <thead>\n",
       "    <tr style=\"text-align: right;\">\n",
       "      <th></th>\n",
       "      <th>ip_address</th>\n",
       "      <th>cookie_id_1</th>\n",
       "      <th>cookie_id_2</th>\n",
       "      <th>is_same_user</th>\n",
       "    </tr>\n",
       "  </thead>\n",
       "  <tbody>\n",
       "    <tr>\n",
       "      <th>1</th>\n",
       "      <td>1.1.1</td>\n",
       "      <td>abc</td>\n",
       "      <td>cbd</td>\n",
       "      <td>0</td>\n",
       "    </tr>\n",
       "    <tr>\n",
       "      <th>5</th>\n",
       "      <td>2.2.2</td>\n",
       "      <td>abc</td>\n",
       "      <td>def</td>\n",
       "      <td>1</td>\n",
       "    </tr>\n",
       "    <tr>\n",
       "      <th>6</th>\n",
       "      <td>2.2.2</td>\n",
       "      <td>abc</td>\n",
       "      <td>ghi</td>\n",
       "      <td>0</td>\n",
       "    </tr>\n",
       "    <tr>\n",
       "      <th>9</th>\n",
       "      <td>2.2.2</td>\n",
       "      <td>def</td>\n",
       "      <td>ghi</td>\n",
       "      <td>0</td>\n",
       "    </tr>\n",
       "  </tbody>\n",
       "</table>\n",
       "</div>"
      ],
      "text/plain": [
       "  ip_address cookie_id_1 cookie_id_2  is_same_user\n",
       "1      1.1.1         abc         cbd             0\n",
       "5      2.2.2         abc         def             1\n",
       "6      2.2.2         abc         ghi             0\n",
       "9      2.2.2         def         ghi             0"
      ]
     },
     "execution_count": 23,
     "metadata": {},
     "output_type": "execute_result"
    }
   ],
   "source": [
    "def is_same_user(c1,c2):\n",
    "  u1 = match_dict[c1]\n",
    "  u2 = match_dict[c2]\n",
    "  ## if one of them is empty, then we can’t reach a conclusion\n",
    "  if u1 == '' or u2 == '':\n",
    "    match = 0\n",
    "  else:\n",
    "    if u1 == u2:\n",
    "      match = 1\n",
    "    else:\n",
    "      match = 0\n",
    "  return match\n",
    "\n",
    "ddf['is_same_user'] = ddf.apply(lambda row: is_same_user(row['cookie_id_1'],row['cookie_id_2']), axis=1)\n",
    "\n",
    "ddf"
   ]
  },
  {
   "cell_type": "code",
   "execution_count": null,
   "metadata": {
    "collapsed": true
   },
   "outputs": [],
   "source": []
  }
 ],
 "metadata": {
  "kernelspec": {
   "display_name": "Python 2",
   "language": "python",
   "name": "python2"
  },
  "language_info": {
   "codemirror_mode": {
    "name": "ipython",
    "version": 2
   },
   "file_extension": ".py",
   "mimetype": "text/x-python",
   "name": "python",
   "nbconvert_exporter": "python",
   "pygments_lexer": "ipython2",
   "version": "2.7.9"
  }
 },
 "nbformat": 4,
 "nbformat_minor": 0
}
